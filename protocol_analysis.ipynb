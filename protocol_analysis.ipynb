{
 "cells": [
  {
   "cell_type": "code",
   "execution_count": 1,
   "metadata": {},
   "outputs": [],
   "source": [
    "import os\n",
    "\n",
    "# Cache\n",
    "from joblib import Memory\n",
    "\n",
    "# Data\n",
    "import numpy as np\n",
    "import pandas as pd\n",
    "\n",
    "# Stats\n",
    "import scipy.stats as stats\n",
    "from scipy.stats import spearmanr\n",
    "from scipy.stats import linregress\n",
    "from scipy.signal import savgol_filter\n",
    "from scipy.optimize import curve_fit\n",
    "import pingouin as pg\n",
    "\n",
    "import statsmodels.api as sm\n",
    "import statsmodels.formula.api as smf\n",
    "\n",
    "from sklearn.metrics import r2_score\n",
    "\n",
    "# CDSS\n",
    "from ai_cdss.data_loader import DataLoader\n",
    "from ai_cdss.data_processor import DataProcessor\n",
    "from ai_cdss.constants import *\n",
    "\n",
    "from cdss_utils import expand_session, check_session, safe_merge, filter_study_range, get_confidence_intervals, generate_patient_protocol_report\n",
    "\n",
    "# Plotting\n",
    "import seaborn as sns\n",
    "import matplotlib.pyplot as plt\n",
    "import matplotlib.gridspec as gridspec\n",
    "from matplotlib.gridspec import GridSpec\n"
   ]
  },
  {
   "cell_type": "code",
   "execution_count": 12,
   "metadata": {},
   "outputs": [
    {
     "name": "stdout",
     "output_type": "stream",
     "text": [
      "Database engine created successfully\n"
     ]
    },
    {
     "name": "stderr",
     "output_type": "stream",
     "text": [
      "WARNING:ai_cdss.processing:1 patients found without prescription. Check exported file: /home/dav/.ai_cdss/logs/patients_no_data_20250415_144752.csv\n",
      "WARNING:ai_cdss.processing:11 sessions found without adherence. Check exported file: /home/dav/.ai_cdss/logs/patient_session_discrepancy_20250415_144752.csv\n",
      "INFO:ai_cdss.processing:Session data cleaned. Final shape: (2911, 34)\n",
      "INFO:ai_cdss.data_loader:Session data loaded successfully.\n",
      "INFO:cdss_utils:No patients without prescription found.\n",
      "INFO:cdss_utils:No sessions without adherence found.\n",
      "INFO:cdss_utils:Session data cleaned. Final shape: (2911, 34)\n"
     ]
    },
    {
     "name": "stdout",
     "output_type": "stream",
     "text": [
      "Database engine closed\n",
      "Patient registered but no data yet.\n",
      "Sessions in session table but not in recording table\n",
      "Patient registered but no data yet.\n",
      "Sessions in session table but not in recording table\n",
      "Database engine created successfully\n",
      "Database engine closed\n",
      "Database engine created successfully\n",
      "Database engine closed\n"
     ]
    },
    {
     "name": "stderr",
     "output_type": "stream",
     "text": [
      "WARNING:ai_cdss.data_loader:PPF missing for 1 patients: {204}\n",
      "/home/dav/Documents/AISN/ai-cdss/src/ai_cdss/data_loader.py:153: FutureWarning: The behavior of DataFrame concatenation with empty or all-NA entries is deprecated. In a future version, this will no longer exclude empty or all-NA columns when determining the result dtypes. To retain the old behavior, exclude the relevant entries before the concat operation.\n",
      "  ppf_data = pd.concat([ppf_data, missing_combinations], ignore_index=True)\n"
     ]
    },
    {
     "ename": "SchemaError",
     "evalue": "error in check_types decorator of function 'load_ppf_data': non-nullable series 'PPF' contains null values:\n775   NaN\n776   NaN\n777   NaN\n778   NaN\n779   NaN\n780   NaN\n781   NaN\n782   NaN\n783   NaN\n784   NaN\n785   NaN\n786   NaN\n787   NaN\n788   NaN\n789   NaN\n790   NaN\n791   NaN\n792   NaN\n793   NaN\n794   NaN\n795   NaN\n796   NaN\n797   NaN\n798   NaN\n799   NaN\n800   NaN\n801   NaN\n802   NaN\n803   NaN\n804   NaN\n805   NaN\nName: PPF, dtype: float64",
     "output_type": "error",
     "traceback": [
      "\u001b[31m---------------------------------------------------------------------------\u001b[39m",
      "\u001b[31mSchemaError\u001b[39m                               Traceback (most recent call last)",
      "\u001b[36mCell\u001b[39m\u001b[36m \u001b[39m\u001b[32mIn[12]\u001b[39m\u001b[32m, line 34\u001b[39m\n\u001b[32m     32\u001b[39m session = load_session_cached(nest_patient)\n\u001b[32m     33\u001b[39m timeseries = load_timeseries_cached(nest_patient)\n\u001b[32m---> \u001b[39m\u001b[32m34\u001b[39m ppf = \u001b[43mloader\u001b[49m\u001b[43m.\u001b[49m\u001b[43mload_ppf_data\u001b[49m\u001b[43m(\u001b[49m\u001b[43mpatient_list\u001b[49m\u001b[43m=\u001b[49m\u001b[43mnest_patient\u001b[49m\u001b[43m)\u001b[49m\n\u001b[32m     36\u001b[39m \u001b[38;5;66;03m# ppf = loader.load_ppf_data(patient_list=nest_patient)\u001b[39;00m\n\u001b[32m     37\u001b[39m protocol_similarity = loader.load_protocol_similarity()\n",
      "\u001b[36mFile \u001b[39m\u001b[32m~/miniconda3/envs/ai-cdss/lib/python3.12/site-packages/pandera/decorators.py:840\u001b[39m, in \u001b[36mcheck_types.<locals>._wrapper\u001b[39m\u001b[34m(*args, **kwargs)\u001b[39m\n\u001b[32m    838\u001b[39m     validated_pos, validated_kwd = validate_inputs(args, kwargs)\n\u001b[32m    839\u001b[39m     out = wrapped(*validated_pos, **validated_kwd)\n\u001b[32m--> \u001b[39m\u001b[32m840\u001b[39m \u001b[38;5;28;01mreturn\u001b[39;00m \u001b[43m_check_arg\u001b[49m\u001b[43m(\u001b[49m\u001b[33;43m\"\u001b[39;49m\u001b[33;43mreturn\u001b[39;49m\u001b[33;43m\"\u001b[39;49m\u001b[43m,\u001b[49m\u001b[43m \u001b[49m\u001b[43mout\u001b[49m\u001b[43m)\u001b[49m\n",
      "\u001b[36mFile \u001b[39m\u001b[32m~/miniconda3/envs/ai-cdss/lib/python3.12/site-packages/pandera/decorators.py:717\u001b[39m, in \u001b[36mcheck_types.<locals>._check_arg\u001b[39m\u001b[34m(arg_name, arg_value)\u001b[39m\n\u001b[32m    715\u001b[39m \u001b[38;5;28;01mif\u001b[39;00m error_handler.schema_errors:\n\u001b[32m    716\u001b[39m     \u001b[38;5;28;01mif\u001b[39;00m \u001b[38;5;28mlen\u001b[39m(error_handler.schema_errors) == \u001b[32m1\u001b[39m:\n\u001b[32m--> \u001b[39m\u001b[32m717\u001b[39m         \u001b[38;5;28;01mraise\u001b[39;00m error_handler.schema_errors[\u001b[32m0\u001b[39m]\n\u001b[32m    719\u001b[39m     \u001b[38;5;28;01mraise\u001b[39;00m errors.SchemaErrors(\n\u001b[32m    720\u001b[39m         schema=schema,\n\u001b[32m    721\u001b[39m         schema_errors=(\n\u001b[32m   (...)\u001b[39m\u001b[32m    726\u001b[39m         data=arg_value,\n\u001b[32m    727\u001b[39m     )\n",
      "\u001b[31mSchemaError\u001b[39m: error in check_types decorator of function 'load_ppf_data': non-nullable series 'PPF' contains null values:\n775   NaN\n776   NaN\n777   NaN\n778   NaN\n779   NaN\n780   NaN\n781   NaN\n782   NaN\n783   NaN\n784   NaN\n785   NaN\n786   NaN\n787   NaN\n788   NaN\n789   NaN\n790   NaN\n791   NaN\n792   NaN\n793   NaN\n794   NaN\n795   NaN\n796   NaN\n797   NaN\n798   NaN\n799   NaN\n800   NaN\n801   NaN\n802   NaN\n803   NaN\n804   NaN\n805   NaN\nName: PPF, dtype: float64"
     ]
    }
   ],
   "source": [
    "memory = Memory(location='cache_dir', verbose=0)\n",
    "\n",
    "@memory.cache\n",
    "def load_session_cached(patient_list):\n",
    "    return check_session(loader.load_session_data(patient_list=patient_list))\n",
    "\n",
    "@memory.cache\n",
    "def load_timeseries_cached(patient_list):\n",
    "    return loader.load_timeseries_data(patient_list=patient_list)\n",
    "\n",
    "SAVE_DATA = True\n",
    "EXPAND = False\n",
    "\n",
    "# NEST DATA\n",
    "nest_patient = [\n",
    "    204, 775,  787,  788, 1123, 1169, 1170, 1171, 1172, 1173, 1983, 2110, 2195,\n",
    "    2955, 2956, 2957, 2958, 2959, 2960, 2961, 2962, 2963, 3081, 3229, 3318, 3432\n",
    "]\n",
    "\n",
    "rgs_mode = \"app\"\n",
    "scoring_weights = [1, 1, 1]\n",
    "ewma_alpha = 0.2\n",
    "\n",
    "n = 12\n",
    "days = 7\n",
    "protocols_per_day = 5\n",
    "\n",
    "loader = DataLoader(rgs_mode=rgs_mode)\n",
    "processor = DataProcessor(weights=scoring_weights, alpha=ewma_alpha)\n",
    "\n",
    "# Load Data\n",
    "session = load_session_cached(nest_patient)\n",
    "timeseries = load_timeseries_cached(nest_patient)\n",
    "ppf = loader.load_ppf_data(patient_list=nest_patient)\n",
    "\n",
    "# ppf = loader.load_ppf_data(patient_list=nest_patient)\n",
    "protocol_similarity = loader.load_protocol_similarity()\n",
    "protocol_metrics = loader.load_protocol_init()\n",
    "\n",
    "# Process Data\n",
    "session = session.dropna(subset=[\"ADHERENCE\"])\n",
    "ts = processor.aggregate_dms_by_time(timeseries)\n",
    "ts = ts.sort_values(by=BY_PPST)\n",
    "\n",
    "# Merge\n",
    "nest_data = safe_merge(session, ts, on=BY_PPS, how=\"inner\", left_name=\"session\", right_name=\"ts\")"
   ]
  },
  {
   "cell_type": "code",
   "execution_count": null,
   "metadata": {},
   "outputs": [],
   "source": []
  }
 ],
 "metadata": {
  "kernelspec": {
   "display_name": "ai-cdss",
   "language": "python",
   "name": "python3"
  },
  "language_info": {
   "codemirror_mode": {
    "name": "ipython",
    "version": 3
   },
   "file_extension": ".py",
   "mimetype": "text/x-python",
   "name": "python",
   "nbconvert_exporter": "python",
   "pygments_lexer": "ipython3",
   "version": "3.12.9"
  }
 },
 "nbformat": 4,
 "nbformat_minor": 2
}
